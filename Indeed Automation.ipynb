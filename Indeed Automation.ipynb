{
 "cells": [
  {
   "cell_type": "code",
   "execution_count": 1,
   "metadata": {},
   "outputs": [
    {
     "name": "stdout",
     "output_type": "stream",
     "text": [
      "Requirement already satisfied: selenium in c:\\users\\ashishd7715\\anaconda3\\lib\\site-packages (3.141.0)\n",
      "Requirement already satisfied: urllib3 in c:\\users\\ashishd7715\\anaconda3\\lib\\site-packages (from selenium) (1.25.9)\n"
     ]
    }
   ],
   "source": [
    "!pip install selenium"
   ]
  },
  {
   "cell_type": "code",
   "execution_count": 2,
   "metadata": {},
   "outputs": [],
   "source": [
    "\n",
    "from selenium import webdriver\n",
    "import time\n",
    "driver = webdriver.Chrome(\"C:/chromedriver_win32/chromedriver.exe\")\n",
    "time.sleep(4)\n",
    "\n",
    "driver.get(\"https://secure.indeed.com/\")\n",
    "\n",
    "time.sleep(2)\n",
    "\n",
    "emailElement = driver.find_element_by_id(\"login-email-input\")\n",
    "Username = \"ashish@gmail.com\"\n",
    "for char in Username:\n",
    "    emailElement.send_keys(char)\n",
    "    time.sleep(0.1)\n",
    "    \n",
    "time.sleep(2)\n",
    "passElement = driver.find_element_by_id(\"login-password-input\")\n",
    "Pass = \"ashish@gmail.com\"\n",
    "for char in Pass:\n",
    "    passElement.send_keys(char)\n",
    "    time.sleep(0.1)\n",
    "    \n",
    "time.sleep(2)\n",
    "labelElement = driver.find_element_by_id(\"label-login-rememberme-checkbox\")\n",
    "labelElement.click()\n",
    "\n",
    "time.sleep(2)\n",
    "buttonElement = driver.find_element_by_id(\"login-submit-button\")\n",
    "buttonElement.click()"
   ]
  }
 ],
 "metadata": {
  "kernelspec": {
   "display_name": "Python 3",
   "language": "python",
   "name": "python3"
  },
  "language_info": {
   "codemirror_mode": {
    "name": "ipython",
    "version": 3
   },
   "file_extension": ".py",
   "mimetype": "text/x-python",
   "name": "python",
   "nbconvert_exporter": "python",
   "pygments_lexer": "ipython3",
   "version": "3.8.3"
  }
 },
 "nbformat": 4,
 "nbformat_minor": 4
}
