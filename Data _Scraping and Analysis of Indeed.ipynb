{
 "cells": [
  {
   "cell_type": "code",
   "execution_count": 1,
   "metadata": {},
   "outputs": [],
   "source": [
    "from selenium import webdriver\n",
    "from time import sleep\n",
    "from bs4 import BeautifulSoup"
   ]
  },
  {
   "cell_type": "code",
   "execution_count": 2,
   "metadata": {},
   "outputs": [],
   "source": [
    "#Entered the url of machine learning jobs \n",
    "PageUrl = \"https://in.indeed.com/jobs?q=machine+learning+engineer&l=India&start={}\""
   ]
  },
  {
   "cell_type": "code",
   "execution_count": 3,
   "metadata": {},
   "outputs": [],
   "source": [
    "Driver = webdriver.Chrome(\"C:\\chromedriver_win32\\chromedriver.exe\")"
   ]
  },
  {
   "cell_type": "code",
   "execution_count": 4,
   "metadata": {},
   "outputs": [],
   "source": [
    "## Data we want to collect (Store)\n",
    "Titles = []\n",
    "Locations = []\n",
    "Companies = []\n",
    "Salaries = []\n",
    "JobDetails = []"
   ]
  },
  {
   "cell_type": "code",
   "execution_count": 5,
   "metadata": {},
   "outputs": [],
   "source": [
    "for pageNum in range(0, 200, 10):\n",
    "    Driver.get(PageUrl.format(pageNum))\n",
    "    cards = None\n",
    "    while True:\n",
    "        cards = Driver.find_elements_by_class_name(\"result\")\n",
    "        break\n",
    "        \n",
    "    for card in cards:\n",
    "        details = BeautifulSoup(card.get_attribute('innerHTML'), 'html.parser')\n",
    "        \n",
    "        try:\n",
    "            title = details.find('a', class_ = \"jobtitle\").text.replace(\"\\n\", \"\").strip()\n",
    "            Titles.append(title)\n",
    "        except:\n",
    "            Titles.append(None)\n",
    "            \n",
    "            \n",
    "        try:\n",
    "            location = details.find(class_ = \"location\").text.replace(\"\\n\", \"\").strip()\n",
    "            Locations.append(location)\n",
    "        except:\n",
    "            Locations.append(None)\n",
    "            \n",
    "        try:\n",
    "            company = details.find(class_ = \"company\").text.replace(\"\\n\", \"\").strip()\n",
    "            Companies.append(company)\n",
    "        except:\n",
    "            Companies.append(None)\n",
    "            \n",
    "        \n",
    "        try:\n",
    "            salary = details.find(class_ = \"salary\").text.replace(\"\\n\", \"\").strip()\n",
    "            Salaries.append(salary)\n",
    "        except:\n",
    "            Salaries.append(None)\n",
    "        \n",
    "        while True:\n",
    "            try:\n",
    "                card.click()\n",
    "                sleep(1)\n",
    "                try:\n",
    "                    Des = Driver.find_element_by_id(\"vjs-tab-job\")\n",
    "                    DesHTML = BeautifulSoup(Des.get_attribute('innerHTML'), 'html.parser')\n",
    "                    all_li = DesHTML.find_all(\"li\")\n",
    "                    all_li_text = \"\"\n",
    "                    for Li in all_li:\n",
    "                        all_li_text += Li.text.replace(\"\\n\", \"\")\n",
    "                        all_li_text += \" \"\n",
    "                    JobDetails.append(all_li_text)\n",
    "                except:\n",
    "                    JobDetails.append(None)\n",
    "                break\n",
    "            except:\n",
    "                pass\n",
    "        \n",
    "                "
   ]
  },
  {
   "cell_type": "code",
   "execution_count": 6,
   "metadata": {},
   "outputs": [],
   "source": [
    "import pandas as pd"
   ]
  },
  {
   "cell_type": "code",
   "execution_count": 7,
   "metadata": {},
   "outputs": [],
   "source": [
    "df = pd.DataFrame({\n",
    "    \"Title\":Titles,\n",
    "    \"Location\":Locations,\n",
    "    \"Company\":Companies,\n",
    "    \"Salary\":Salaries,\n",
    "    \"Details\":JobDetails\n",
    "    \n",
    "})"
   ]
  },
  {
   "cell_type": "code",
   "execution_count": 8,
   "metadata": {},
   "outputs": [],
   "source": [
    "df.to_csv(\"machinelearning.csv\")"
   ]
  },
  {
   "cell_type": "markdown",
   "metadata": {},
   "source": [
    "# Data Analysis Part Start"
   ]
  },
  {
   "cell_type": "code",
   "execution_count": 9,
   "metadata": {},
   "outputs": [
    {
     "data": {
      "text/html": [
       "<div>\n",
       "<style scoped>\n",
       "    .dataframe tbody tr th:only-of-type {\n",
       "        vertical-align: middle;\n",
       "    }\n",
       "\n",
       "    .dataframe tbody tr th {\n",
       "        vertical-align: top;\n",
       "    }\n",
       "\n",
       "    .dataframe thead th {\n",
       "        text-align: right;\n",
       "    }\n",
       "</style>\n",
       "<table border=\"1\" class=\"dataframe\">\n",
       "  <thead>\n",
       "    <tr style=\"text-align: right;\">\n",
       "      <th></th>\n",
       "      <th>Title</th>\n",
       "      <th>Location</th>\n",
       "      <th>Company</th>\n",
       "      <th>Salary</th>\n",
       "      <th>Details</th>\n",
       "    </tr>\n",
       "  </thead>\n",
       "  <tbody>\n",
       "    <tr>\n",
       "      <th>0</th>\n",
       "      <td>Engineer - Machine Learning</td>\n",
       "      <td>Pune, Maharashtra</td>\n",
       "      <td>Maersk</td>\n",
       "      <td>None</td>\n",
       "      <td>As the leading ocean transportation carrier in...</td>\n",
       "    </tr>\n",
       "    <tr>\n",
       "      <th>1</th>\n",
       "      <td>Machine Learning Engineer</td>\n",
       "      <td>Indore, Madhya Pradesh</td>\n",
       "      <td>Quasesoft Technologies (HBH Group)</td>\n",
       "      <td>None</td>\n",
       "      <td>Day shift total work: 1 year (Required) Bachel...</td>\n",
       "    </tr>\n",
       "    <tr>\n",
       "      <th>2</th>\n",
       "      <td>Trainer/ Faculty Member- Machine Learning</td>\n",
       "      <td>Andheri, Mumbai, Maharashtra</td>\n",
       "      <td>Itvedant</td>\n",
       "      <td>₹35,000 - ₹45,000 a month</td>\n",
       "      <td>itvedant was started with the aim of bridging ...</td>\n",
       "    </tr>\n",
       "    <tr>\n",
       "      <th>3</th>\n",
       "      <td>Machine Learning Engineer - Computer Vision/NLP</td>\n",
       "      <td>Pune, Maharashtra</td>\n",
       "      <td>Scandid</td>\n",
       "      <td>None</td>\n",
       "      <td>5+ years of experience in building production-...</td>\n",
       "    </tr>\n",
       "    <tr>\n",
       "      <th>4</th>\n",
       "      <td>Machine Learning Engineer</td>\n",
       "      <td>Pune, Maharashtra</td>\n",
       "      <td>Shivrai Technologies Pvt. Ltd</td>\n",
       "      <td>None</td>\n",
       "      <td>Designing and developing machine learning and ...</td>\n",
       "    </tr>\n",
       "  </tbody>\n",
       "</table>\n",
       "</div>"
      ],
      "text/plain": [
       "                                             Title  \\\n",
       "0                      Engineer - Machine Learning   \n",
       "1                        Machine Learning Engineer   \n",
       "2        Trainer/ Faculty Member- Machine Learning   \n",
       "3  Machine Learning Engineer - Computer Vision/NLP   \n",
       "4                        Machine Learning Engineer   \n",
       "\n",
       "                       Location                             Company  \\\n",
       "0             Pune, Maharashtra                              Maersk   \n",
       "1        Indore, Madhya Pradesh  Quasesoft Technologies (HBH Group)   \n",
       "2  Andheri, Mumbai, Maharashtra                            Itvedant   \n",
       "3             Pune, Maharashtra                             Scandid   \n",
       "4             Pune, Maharashtra       Shivrai Technologies Pvt. Ltd   \n",
       "\n",
       "                      Salary  \\\n",
       "0                       None   \n",
       "1                       None   \n",
       "2  ₹35,000 - ₹45,000 a month   \n",
       "3                       None   \n",
       "4                       None   \n",
       "\n",
       "                                             Details  \n",
       "0  As the leading ocean transportation carrier in...  \n",
       "1  Day shift total work: 1 year (Required) Bachel...  \n",
       "2  itvedant was started with the aim of bridging ...  \n",
       "3  5+ years of experience in building production-...  \n",
       "4  Designing and developing machine learning and ...  "
      ]
     },
     "execution_count": 9,
     "metadata": {},
     "output_type": "execute_result"
    }
   ],
   "source": [
    "#prints the first 5 rows of a DataFrame\n",
    "df.head()"
   ]
  },
  {
   "cell_type": "code",
   "execution_count": 10,
   "metadata": {},
   "outputs": [
    {
     "name": "stdout",
     "output_type": "stream",
     "text": [
      "<class 'pandas.core.frame.DataFrame'>\n",
      "RangeIndex: 105 entries, 0 to 104\n",
      "Data columns (total 5 columns):\n",
      " #   Column    Non-Null Count  Dtype \n",
      "---  ------    --------------  ----- \n",
      " 0   Title     105 non-null    object\n",
      " 1   Location  105 non-null    object\n",
      " 2   Company   105 non-null    object\n",
      " 3   Salary    23 non-null     object\n",
      " 4   Details   81 non-null     object\n",
      "dtypes: object(5)\n",
      "memory usage: 4.2+ KB\n"
     ]
    }
   ],
   "source": [
    "# Looking at the information about the dataset, datatypes of the coresponding columns and missing values\n",
    "df.info() "
   ]
  },
  {
   "cell_type": "code",
   "execution_count": 11,
   "metadata": {},
   "outputs": [
    {
     "data": {
      "text/html": [
       "<div>\n",
       "<style scoped>\n",
       "    .dataframe tbody tr th:only-of-type {\n",
       "        vertical-align: middle;\n",
       "    }\n",
       "\n",
       "    .dataframe tbody tr th {\n",
       "        vertical-align: top;\n",
       "    }\n",
       "\n",
       "    .dataframe thead th {\n",
       "        text-align: right;\n",
       "    }\n",
       "</style>\n",
       "<table border=\"1\" class=\"dataframe\">\n",
       "  <thead>\n",
       "    <tr style=\"text-align: right;\">\n",
       "      <th></th>\n",
       "      <th>Title</th>\n",
       "      <th>Location</th>\n",
       "      <th>Company</th>\n",
       "      <th>Salary</th>\n",
       "      <th>Details</th>\n",
       "    </tr>\n",
       "  </thead>\n",
       "  <tbody>\n",
       "    <tr>\n",
       "      <th>17</th>\n",
       "      <td>Machine Learning Engineer</td>\n",
       "      <td>Mumbai, Maharashtra</td>\n",
       "      <td>Rainbox Media Private Limited</td>\n",
       "      <td>None</td>\n",
       "      <td>Creating supervised, neural network based and ...</td>\n",
       "    </tr>\n",
       "    <tr>\n",
       "      <th>21</th>\n",
       "      <td>Machine Learning Engineer</td>\n",
       "      <td>Bengaluru, Karnataka</td>\n",
       "      <td>Provonsys Technologies</td>\n",
       "      <td>₹6,00,000 - ₹15,00,000 a year</td>\n",
       "      <td>Morning shift Temporarily due to COVID-19 Remo...</td>\n",
       "    </tr>\n",
       "    <tr>\n",
       "      <th>31</th>\n",
       "      <td>Jr Machine Learning Engineer</td>\n",
       "      <td>Bengaluru, Karnataka</td>\n",
       "      <td>Radome Technologies &amp; Services Pvt Ltd</td>\n",
       "      <td>₹2,00,000 a year</td>\n",
       "      <td>Monday to Friday total work: 1 year (Preferred...</td>\n",
       "    </tr>\n",
       "    <tr>\n",
       "      <th>33</th>\n",
       "      <td>Machine Learning Engineer</td>\n",
       "      <td>Pune, Maharashtra</td>\n",
       "      <td>Climate Connect</td>\n",
       "      <td>None</td>\n",
       "      <td>Developing and testing electricity and carbon ...</td>\n",
       "    </tr>\n",
       "    <tr>\n",
       "      <th>35</th>\n",
       "      <td>Machine Learning Engineer/ Data Scientist</td>\n",
       "      <td>Noida, Uttar Pradesh</td>\n",
       "      <td>Dürr AG</td>\n",
       "      <td>None</td>\n",
       "      <td>Validate requirements, execute projects and en...</td>\n",
       "    </tr>\n",
       "    <tr>\n",
       "      <th>39</th>\n",
       "      <td>Machine Learning Engineer</td>\n",
       "      <td>Karnataka</td>\n",
       "      <td>Branch International</td>\n",
       "      <td>None</td>\n",
       "      <td>You excel at software engineering and programm...</td>\n",
       "    </tr>\n",
       "    <tr>\n",
       "      <th>42</th>\n",
       "      <td>Data Engineer</td>\n",
       "      <td>Panaji Secretariat, Goa</td>\n",
       "      <td>Numadic</td>\n",
       "      <td>₹40,000 a month</td>\n",
       "      <td>Apply advanced predictive modeling and statist...</td>\n",
       "    </tr>\n",
       "    <tr>\n",
       "      <th>47</th>\n",
       "      <td>Machine Learning Engineer</td>\n",
       "      <td>Delhi, Delhi</td>\n",
       "      <td>CCS Computers</td>\n",
       "      <td>None</td>\n",
       "      <td>3+ years of industry experience developing mac...</td>\n",
       "    </tr>\n",
       "    <tr>\n",
       "      <th>48</th>\n",
       "      <td>Machine Learning Engineer</td>\n",
       "      <td>Bengaluru, Karnataka</td>\n",
       "      <td>Provonsys Technologies</td>\n",
       "      <td>₹6,00,000 - ₹15,00,000 a year</td>\n",
       "      <td>Morning shift Temporarily due to COVID-19 Remo...</td>\n",
       "    </tr>\n",
       "    <tr>\n",
       "      <th>51</th>\n",
       "      <td>Machine Learning Engineer</td>\n",
       "      <td>Chennai, Tamil Nadu</td>\n",
       "      <td>PayPal</td>\n",
       "      <td>None</td>\n",
       "      <td>Exciting Role to be part of Paypal Privacy tea...</td>\n",
       "    </tr>\n",
       "    <tr>\n",
       "      <th>54</th>\n",
       "      <td>Machine Learning Engineer/ Data Scientist</td>\n",
       "      <td>Noida, Uttar Pradesh</td>\n",
       "      <td>Dürr AG</td>\n",
       "      <td>None</td>\n",
       "      <td>Validate requirements, execute projects and en...</td>\n",
       "    </tr>\n",
       "    <tr>\n",
       "      <th>55</th>\n",
       "      <td>Machine Learning Engineer</td>\n",
       "      <td>Chandigarh, Chandigarh</td>\n",
       "      <td>RTEX HR Services Pvt. Ltd</td>\n",
       "      <td>₹12,000 - ₹50,592 a month</td>\n",
       "      <td>Health insurance Life insurance Day shift Mach...</td>\n",
       "    </tr>\n",
       "    <tr>\n",
       "      <th>56</th>\n",
       "      <td>Software Engineer - Machine Learning Engineer</td>\n",
       "      <td>Pune, Maharashtra</td>\n",
       "      <td>Siemens Technology and Services Private Limited</td>\n",
       "      <td>None</td>\n",
       "      <td>Design, build, and maintain efficient, reusabl...</td>\n",
       "    </tr>\n",
       "    <tr>\n",
       "      <th>59</th>\n",
       "      <td>Deep Learning Engineer</td>\n",
       "      <td>Ahmedabad, Gujarat</td>\n",
       "      <td>Jekson Vision</td>\n",
       "      <td>₹2,00,000 - ₹7,00,000 a year</td>\n",
       "      <td>Develop state of the art algorithms in the fie...</td>\n",
       "    </tr>\n",
       "    <tr>\n",
       "      <th>60</th>\n",
       "      <td>Machine Learning Engineer</td>\n",
       "      <td>Chandigarh, Chandigarh</td>\n",
       "      <td>RTEX HR Services Pvt. Ltd</td>\n",
       "      <td>₹12,000 - ₹50,592 a month</td>\n",
       "      <td>Health insurance Life insurance Day shift Mach...</td>\n",
       "    </tr>\n",
       "    <tr>\n",
       "      <th>61</th>\n",
       "      <td>(Machine Learning Engineer</td>\n",
       "      <td>Pune, Maharashtra</td>\n",
       "      <td>Alliance Recruitment Agency</td>\n",
       "      <td>None</td>\n",
       "      <td>Proficiency with Python and basic libraries fo...</td>\n",
       "    </tr>\n",
       "    <tr>\n",
       "      <th>62</th>\n",
       "      <td>Software Engineer - Machine Learning Engineer</td>\n",
       "      <td>Pune, Maharashtra</td>\n",
       "      <td>Siemens Technology and Services Private Limited</td>\n",
       "      <td>None</td>\n",
       "      <td>Design, build, and maintain efficient, reusabl...</td>\n",
       "    </tr>\n",
       "    <tr>\n",
       "      <th>63</th>\n",
       "      <td>Senior Member of Technical Staff - Machine Lea...</td>\n",
       "      <td>Bengaluru, Karnataka</td>\n",
       "      <td>[24]7.ai</td>\n",
       "      <td>None</td>\n",
       "      <td>Consulting with managers to determine and refi...</td>\n",
       "    </tr>\n",
       "    <tr>\n",
       "      <th>67</th>\n",
       "      <td>Machine Learning Engineer - Orpheus</td>\n",
       "      <td>Gurgaon, Haryana</td>\n",
       "      <td>McKinsey &amp; Company</td>\n",
       "      <td>None</td>\n",
       "      <td>Master's or PhD degree in machine learning, ap...</td>\n",
       "    </tr>\n",
       "    <tr>\n",
       "      <th>69</th>\n",
       "      <td>Machine Learning Engineer</td>\n",
       "      <td>Gurgaon, Haryana</td>\n",
       "      <td>Greenlight Planet</td>\n",
       "      <td>None</td>\n",
       "      <td>Build production level machine learning models...</td>\n",
       "    </tr>\n",
       "    <tr>\n",
       "      <th>76</th>\n",
       "      <td>Machine Learning Engineer</td>\n",
       "      <td>Chandigarh, Chandigarh</td>\n",
       "      <td>RTEX HR Services Pvt. Ltd</td>\n",
       "      <td>₹12,000 - ₹50,592 a month</td>\n",
       "      <td>Health insurance Life insurance Day shift Mach...</td>\n",
       "    </tr>\n",
       "    <tr>\n",
       "      <th>77</th>\n",
       "      <td>Machine Learning Engineer</td>\n",
       "      <td>Bengaluru, Karnataka</td>\n",
       "      <td>Ignitarium Technology Solutions</td>\n",
       "      <td>None</td>\n",
       "      <td></td>\n",
       "    </tr>\n",
       "    <tr>\n",
       "      <th>82</th>\n",
       "      <td>Data Scientist, Engineering</td>\n",
       "      <td>Bengaluru, Karnataka</td>\n",
       "      <td>Google</td>\n",
       "      <td>None</td>\n",
       "      <td>Master's degree in a quantitative discipline o...</td>\n",
       "    </tr>\n",
       "    <tr>\n",
       "      <th>97</th>\n",
       "      <td>Software Engineer II (Machine Learning)</td>\n",
       "      <td>Pune, Maharashtra</td>\n",
       "      <td>Helpshift</td>\n",
       "      <td>None</td>\n",
       "      <td>None</td>\n",
       "    </tr>\n",
       "    <tr>\n",
       "      <th>99</th>\n",
       "      <td>ML Engineer</td>\n",
       "      <td>Navi Mumbai, Maharashtra</td>\n",
       "      <td>Rejolut Technology Solutions</td>\n",
       "      <td>₹2,00,000 - ₹6,00,000 a year</td>\n",
       "      <td>None</td>\n",
       "    </tr>\n",
       "  </tbody>\n",
       "</table>\n",
       "</div>"
      ],
      "text/plain": [
       "                                                Title  \\\n",
       "17                          Machine Learning Engineer   \n",
       "21                          Machine Learning Engineer   \n",
       "31                       Jr Machine Learning Engineer   \n",
       "33                          Machine Learning Engineer   \n",
       "35          Machine Learning Engineer/ Data Scientist   \n",
       "39                          Machine Learning Engineer   \n",
       "42                                      Data Engineer   \n",
       "47                          Machine Learning Engineer   \n",
       "48                          Machine Learning Engineer   \n",
       "51                          Machine Learning Engineer   \n",
       "54          Machine Learning Engineer/ Data Scientist   \n",
       "55                          Machine Learning Engineer   \n",
       "56      Software Engineer - Machine Learning Engineer   \n",
       "59                             Deep Learning Engineer   \n",
       "60                          Machine Learning Engineer   \n",
       "61                         (Machine Learning Engineer   \n",
       "62      Software Engineer - Machine Learning Engineer   \n",
       "63  Senior Member of Technical Staff - Machine Lea...   \n",
       "67                Machine Learning Engineer - Orpheus   \n",
       "69                          Machine Learning Engineer   \n",
       "76                          Machine Learning Engineer   \n",
       "77                          Machine Learning Engineer   \n",
       "82                        Data Scientist, Engineering   \n",
       "97            Software Engineer II (Machine Learning)   \n",
       "99                                        ML Engineer   \n",
       "\n",
       "                    Location                                          Company  \\\n",
       "17       Mumbai, Maharashtra                    Rainbox Media Private Limited   \n",
       "21      Bengaluru, Karnataka                           Provonsys Technologies   \n",
       "31      Bengaluru, Karnataka           Radome Technologies & Services Pvt Ltd   \n",
       "33         Pune, Maharashtra                                  Climate Connect   \n",
       "35      Noida, Uttar Pradesh                                          Dürr AG   \n",
       "39                 Karnataka                             Branch International   \n",
       "42   Panaji Secretariat, Goa                                          Numadic   \n",
       "47              Delhi, Delhi                                    CCS Computers   \n",
       "48      Bengaluru, Karnataka                           Provonsys Technologies   \n",
       "51       Chennai, Tamil Nadu                                           PayPal   \n",
       "54      Noida, Uttar Pradesh                                          Dürr AG   \n",
       "55    Chandigarh, Chandigarh                        RTEX HR Services Pvt. Ltd   \n",
       "56         Pune, Maharashtra  Siemens Technology and Services Private Limited   \n",
       "59        Ahmedabad, Gujarat                                    Jekson Vision   \n",
       "60    Chandigarh, Chandigarh                        RTEX HR Services Pvt. Ltd   \n",
       "61         Pune, Maharashtra                      Alliance Recruitment Agency   \n",
       "62         Pune, Maharashtra  Siemens Technology and Services Private Limited   \n",
       "63      Bengaluru, Karnataka                                         [24]7.ai   \n",
       "67          Gurgaon, Haryana                               McKinsey & Company   \n",
       "69          Gurgaon, Haryana                                Greenlight Planet   \n",
       "76    Chandigarh, Chandigarh                        RTEX HR Services Pvt. Ltd   \n",
       "77      Bengaluru, Karnataka                  Ignitarium Technology Solutions   \n",
       "82      Bengaluru, Karnataka                                           Google   \n",
       "97         Pune, Maharashtra                                        Helpshift   \n",
       "99  Navi Mumbai, Maharashtra                     Rejolut Technology Solutions   \n",
       "\n",
       "                           Salary  \\\n",
       "17                           None   \n",
       "21  ₹6,00,000 - ₹15,00,000 a year   \n",
       "31               ₹2,00,000 a year   \n",
       "33                           None   \n",
       "35                           None   \n",
       "39                           None   \n",
       "42                ₹40,000 a month   \n",
       "47                           None   \n",
       "48  ₹6,00,000 - ₹15,00,000 a year   \n",
       "51                           None   \n",
       "54                           None   \n",
       "55      ₹12,000 - ₹50,592 a month   \n",
       "56                           None   \n",
       "59   ₹2,00,000 - ₹7,00,000 a year   \n",
       "60      ₹12,000 - ₹50,592 a month   \n",
       "61                           None   \n",
       "62                           None   \n",
       "63                           None   \n",
       "67                           None   \n",
       "69                           None   \n",
       "76      ₹12,000 - ₹50,592 a month   \n",
       "77                           None   \n",
       "82                           None   \n",
       "97                           None   \n",
       "99   ₹2,00,000 - ₹6,00,000 a year   \n",
       "\n",
       "                                              Details  \n",
       "17  Creating supervised, neural network based and ...  \n",
       "21  Morning shift Temporarily due to COVID-19 Remo...  \n",
       "31  Monday to Friday total work: 1 year (Preferred...  \n",
       "33  Developing and testing electricity and carbon ...  \n",
       "35  Validate requirements, execute projects and en...  \n",
       "39  You excel at software engineering and programm...  \n",
       "42  Apply advanced predictive modeling and statist...  \n",
       "47  3+ years of industry experience developing mac...  \n",
       "48  Morning shift Temporarily due to COVID-19 Remo...  \n",
       "51  Exciting Role to be part of Paypal Privacy tea...  \n",
       "54  Validate requirements, execute projects and en...  \n",
       "55  Health insurance Life insurance Day shift Mach...  \n",
       "56  Design, build, and maintain efficient, reusabl...  \n",
       "59  Develop state of the art algorithms in the fie...  \n",
       "60  Health insurance Life insurance Day shift Mach...  \n",
       "61  Proficiency with Python and basic libraries fo...  \n",
       "62  Design, build, and maintain efficient, reusabl...  \n",
       "63  Consulting with managers to determine and refi...  \n",
       "67  Master's or PhD degree in machine learning, ap...  \n",
       "69  Build production level machine learning models...  \n",
       "76  Health insurance Life insurance Day shift Mach...  \n",
       "77                                                     \n",
       "82  Master's degree in a quantitative discipline o...  \n",
       "97                                               None  \n",
       "99                                               None  "
      ]
     },
     "execution_count": 11,
     "metadata": {},
     "output_type": "execute_result"
    }
   ],
   "source": [
    "#Print the duplicated rows\n",
    "df[df.duplicated()]"
   ]
  },
  {
   "cell_type": "code",
   "execution_count": 12,
   "metadata": {},
   "outputs": [],
   "source": [
    "#Droping duplicates\n",
    "df=df.drop_duplicates(subset=[\"Title\",\"Location\",\"Company\",\"Salary\",\"Details\"],keep=\"first\")"
   ]
  },
  {
   "cell_type": "code",
   "execution_count": 13,
   "metadata": {},
   "outputs": [
    {
     "data": {
      "text/html": [
       "<div>\n",
       "<style scoped>\n",
       "    .dataframe tbody tr th:only-of-type {\n",
       "        vertical-align: middle;\n",
       "    }\n",
       "\n",
       "    .dataframe tbody tr th {\n",
       "        vertical-align: top;\n",
       "    }\n",
       "\n",
       "    .dataframe thead th {\n",
       "        text-align: right;\n",
       "    }\n",
       "</style>\n",
       "<table border=\"1\" class=\"dataframe\">\n",
       "  <thead>\n",
       "    <tr style=\"text-align: right;\">\n",
       "      <th></th>\n",
       "      <th>Title</th>\n",
       "      <th>Location</th>\n",
       "      <th>Company</th>\n",
       "      <th>Salary</th>\n",
       "      <th>Details</th>\n",
       "    </tr>\n",
       "  </thead>\n",
       "  <tbody>\n",
       "  </tbody>\n",
       "</table>\n",
       "</div>"
      ],
      "text/plain": [
       "Empty DataFrame\n",
       "Columns: [Title, Location, Company, Salary, Details]\n",
       "Index: []"
      ]
     },
     "execution_count": 13,
     "metadata": {},
     "output_type": "execute_result"
    }
   ],
   "source": [
    "#NO Duplicate values in any rows \n",
    "df[df.duplicated()]"
   ]
  },
  {
   "cell_type": "code",
   "execution_count": 14,
   "metadata": {},
   "outputs": [],
   "source": [
    "## Companies who have max jobs for Machine Learning..\n",
    "CompanyGroup = df.groupby(\"Company\").count()[\"Title\"].sort_values(ascending = False)[:5]"
   ]
  },
  {
   "cell_type": "code",
   "execution_count": 15,
   "metadata": {},
   "outputs": [
    {
     "data": {
      "text/plain": [
       "Company\n",
       "Dream Sports                   2\n",
       "Dürr AG                        2\n",
       "Perfect Intelligent Systems    2\n",
       "Twitter                        2\n",
       "AlphaSense                     2\n",
       "Name: Title, dtype: int64"
      ]
     },
     "execution_count": 15,
     "metadata": {},
     "output_type": "execute_result"
    }
   ],
   "source": [
    "CompanyGroup"
   ]
  },
  {
   "cell_type": "code",
   "execution_count": 16,
   "metadata": {},
   "outputs": [
    {
     "data": {
      "text/plain": [
       "<matplotlib.axes._subplots.AxesSubplot at 0x1e3840a7910>"
      ]
     },
     "execution_count": 16,
     "metadata": {},
     "output_type": "execute_result"
    },
    {
     "data": {
      "image/png": "[encoded data removed]",
      "text/plain": [
       "<Figure size 720x360 with 1 Axes>"
      ]
     },
     "metadata": {
      "needs_background": "light"
     },
     "output_type": "display_data"
    }
   ],
   "source": [
    "CompanyGroup.plot(kind = \"bar\", figsize = (10, 5))"
   ]
  },
  {
   "cell_type": "code",
   "execution_count": 17,
   "metadata": {},
   "outputs": [],
   "source": [
    "## Cities who have max jobs for Machine Learning..\n",
    "LocationGroup = df.groupby(\"Location\").count()[\"Title\"].sort_values(ascending = False)[:5]"
   ]
  },
  {
   "cell_type": "code",
   "execution_count": 18,
   "metadata": {},
   "outputs": [
    {
     "data": {
      "text/plain": [
       "Location\n",
       "Bengaluru, Karnataka    26\n",
       "Pune, Maharashtra       16\n",
       "Mumbai, Maharashtra      6\n",
       "Delhi, Delhi             4\n",
       "Gurgaon, Haryana         4\n",
       "Name: Title, dtype: int64"
      ]
     },
     "execution_count": 18,
     "metadata": {},
     "output_type": "execute_result"
    }
   ],
   "source": [
    "LocationGroup"
   ]
  },
  {
   "cell_type": "code",
   "execution_count": 19,
   "metadata": {},
   "outputs": [
    {
     "data": {
      "text/plain": [
       "<matplotlib.axes._subplots.AxesSubplot at 0x1e3848325b0>"
      ]
     },
     "execution_count": 19,
     "metadata": {},
     "output_type": "execute_result"
    },
    {
     "data": {
      "image/png": "[encoded data removed]",
      "text/plain": [
       "<Figure size 720x360 with 1 Axes>"
      ]
     },
     "metadata": {
      "needs_background": "light"
     },
     "output_type": "display_data"
    }
   ],
   "source": [
    "LocationGroup.plot(kind = \"bar\", figsize = (10, 5))"
   ]
  }
 ],
 "metadata": {
  "kernelspec": {
   "display_name": "Python 3",
   "language": "python",
   "name": "python3"
  },
  "language_info": {
   "codemirror_mode": {
    "name": "ipython",
    "version": 3
   },
   "file_extension": ".py",
   "mimetype": "text/x-python",
   "name": "python",
   "nbconvert_exporter": "python",
   "pygments_lexer": "ipython3",
   "version": "3.8.3"
  }
 },
 "nbformat": 4,
 "nbformat_minor": 4
}
